{
 "cells": [
  {
   "cell_type": "markdown",
   "metadata": {},
   "source": [
    "# Algorithms, Binary Search & Linked Lists"
   ]
  },
  {
   "cell_type": "markdown",
   "metadata": {},
   "source": [
    "## Tasks Today:\n",
    " \n",
    "1) <b>In-Place Algorithms</b> <br>\n",
    " &nbsp;&nbsp;&nbsp;&nbsp; a) Syntax <br>\n",
    " &nbsp;&nbsp;&nbsp;&nbsp; a) Out of Place Algorithm <br>\n",
    " &nbsp;&nbsp;&nbsp;&nbsp; b) In-Class Exercise #1 <br>\n",
    "2) <b>Two Pointers</b> <br>\n",
    "3) <b>Linked Lists</b> <br>\n",
    "4) <b>Merge Sort</b> <br>\n",
    " &nbsp;&nbsp;&nbsp;&nbsp; a) Video on Algorithms <br>\n",
    " &nbsp;&nbsp;&nbsp;&nbsp; b) How it Works <br>\n",
    "5) <b>Exercises</b> <br>\n",
    " &nbsp;&nbsp;&nbsp;&nbsp; a) Exercise #1 - Reverse a List in Place Using an In-Place Algorithm <br>\n",
    " &nbsp;&nbsp;&nbsp;&nbsp; b) Exercise #2 - Find Distinct Words <br>\n",
    " &nbsp;&nbsp;&nbsp;&nbsp; c) Exercise #3 - Write a program to implement a Linear Search Algorithm. <br>"
   ]
  },
  {
   "cell_type": "markdown",
   "metadata": {},
   "source": [
    "## In-Place Algorithms"
   ]
  },
  {
   "cell_type": "markdown",
   "metadata": {},
   "source": [
    "#### Syntax"
   ]
  },
  {
   "cell_type": "code",
   "execution_count": 11,
   "metadata": {},
   "outputs": [
    {
     "name": "stdout",
     "output_type": "stream",
     "text": [
      "4472858368\n",
      "4472858368\n",
      "4472858368\n",
      "4472858368\n",
      "[2, 3, 1]\n",
      "4464798208\n"
     ]
    }
   ],
   "source": [
    "def swap(alist, x, y, z):\n",
    "    alist[x], alist[y], alist[z] = alist[y], alist[z], alist[x]\n",
    "print(id(mylist))\n",
    "print(id(mylist))\n",
    "print(id(mylist))\n",
    "print(id(mylist))\n",
    "mylist = [1, 2, 3]\n",
    "swap(mylist, 0, 1, 2)\n",
    "print(mylist)\n",
    "print(id(mylist))\n",
    "\n",
    "# 4472856768\n",
    "# [2, 3, 1]\n",
    "# 4472851584"
   ]
  },
  {
   "cell_type": "markdown",
   "metadata": {},
   "source": [
    "#### Out of Place Algorithm"
   ]
  },
  {
   "cell_type": "code",
   "execution_count": 10,
   "metadata": {},
   "outputs": [
    {
     "name": "stdout",
     "output_type": "stream",
     "text": [
      "4472937472\n",
      "[3, 2, 1]\n",
      "4473048064\n"
     ]
    }
   ],
   "source": [
    "\n",
    "def out_swap(alist):\n",
    "    output = []\n",
    "    for ele in alist[::-1]:\n",
    "        output.append(ele)\n",
    "    return output\n",
    "myList = [1, 2, 3]\n",
    "print(id(myList))\n",
    "myList = out_swap(myList)\n",
    "\n",
    "print(myList)\n",
    "print(id(myList))"
   ]
  },
  {
   "cell_type": "markdown",
   "metadata": {},
   "source": [
    "#### In-Class Exercise #1 <br>\n",
    "<p>Write a function that takes in four arguments (list, index1, index2, index3), and swaps those three positions in the list passed in.</p>"
   ]
  },
  {
   "cell_type": "code",
   "execution_count": null,
   "metadata": {},
   "outputs": [],
   "source": [
    "l_1 = [10, 4, 3, 8, 4, 2, 6]\n",
    "\n"
   ]
  },
  {
   "cell_type": "markdown",
   "metadata": {},
   "source": [
    "## Two Pointers"
   ]
  },
  {
   "cell_type": "markdown",
   "metadata": {},
   "source": [
    "#### Syntax"
   ]
  },
  {
   "cell_type": "code",
   "execution_count": 14,
   "metadata": {},
   "outputs": [
    {
     "name": "stdout",
     "output_type": "stream",
     "text": [
      "[17, 16, 15, 14, 13, 12, 11, 10, 9, 8, 7, 6, 5, 4, 3, 2, 1]\n"
     ]
    }
   ],
   "source": [
    "this = [1, 2, 3, 4, 5, 6, 7, 8, 9, 10, 11, 12, 13, 14, 15, 16, 17]\n",
    "\n",
    "def twoP(alist):\n",
    "    left = 0\n",
    "    right = len(alist) - 1\n",
    "    while left <= right:\n",
    "        alist[left], alist[right] = alist[right], alist[left]\n",
    "        left += 1\n",
    "        right -= 1\n",
    "twoP(this)\n",
    "print(this)"
   ]
  },
  {
   "cell_type": "markdown",
   "metadata": {},
   "source": [
    "#### Video of Algorithms <br>\n",
    "<p>Watch the video about algorithms.</p>\n",
    "\n",
    "https://www.youtube.com/watch?v=Q9HjeFD62Uk\n",
    "\n",
    "https://www.youtube.com/watch?v=kPRA0W1kECg\n",
    "\n",
    "https://www.youtube.com/watch?v=ZZuD6iUe3Pc"
   ]
  },
  {
   "cell_type": "markdown",
   "metadata": {},
   "source": [
    "# Sorting Algorithms"
   ]
  },
  {
   "cell_type": "markdown",
   "metadata": {},
   "source": []
  },
  {
   "cell_type": "markdown",
   "metadata": {},
   "source": [
    "#### Bubble Sort\n",
    "\n",
    "Worst Case: O(n^2) Time - O(1) Space"
   ]
  },
  {
   "cell_type": "code",
   "execution_count": 22,
   "metadata": {},
   "outputs": [
    {
     "name": "stdout",
     "output_type": "stream",
     "text": [
      "pass: 1\n",
      "[345, 25, 1, 2, 3, 6, 1, 6, 2, 7, 2, 8, 34, 5, 2]\n",
      "[25, 345, 1, 2, 3, 6, 1, 6, 2, 7, 2, 8, 34, 5, 2]\n",
      "[25, 1, 345, 2, 3, 6, 1, 6, 2, 7, 2, 8, 34, 5, 2]\n",
      "[25, 1, 2, 345, 3, 6, 1, 6, 2, 7, 2, 8, 34, 5, 2]\n",
      "[25, 1, 2, 3, 345, 6, 1, 6, 2, 7, 2, 8, 34, 5, 2]\n",
      "[25, 1, 2, 3, 6, 345, 1, 6, 2, 7, 2, 8, 34, 5, 2]\n",
      "[25, 1, 2, 3, 6, 1, 345, 6, 2, 7, 2, 8, 34, 5, 2]\n",
      "[25, 1, 2, 3, 6, 1, 6, 345, 2, 7, 2, 8, 34, 5, 2]\n",
      "[25, 1, 2, 3, 6, 1, 6, 2, 345, 7, 2, 8, 34, 5, 2]\n",
      "[25, 1, 2, 3, 6, 1, 6, 2, 7, 345, 2, 8, 34, 5, 2]\n",
      "[25, 1, 2, 3, 6, 1, 6, 2, 7, 2, 345, 8, 34, 5, 2]\n",
      "[25, 1, 2, 3, 6, 1, 6, 2, 7, 2, 8, 345, 34, 5, 2]\n",
      "[25, 1, 2, 3, 6, 1, 6, 2, 7, 2, 8, 34, 345, 5, 2]\n",
      "[25, 1, 2, 3, 6, 1, 6, 2, 7, 2, 8, 34, 5, 345, 2]\n",
      "pass: 2\n",
      "[25, 1, 2, 3, 6, 1, 6, 2, 7, 2, 8, 34, 5, 2, 345]\n",
      "[1, 25, 2, 3, 6, 1, 6, 2, 7, 2, 8, 34, 5, 2, 345]\n",
      "[1, 2, 25, 3, 6, 1, 6, 2, 7, 2, 8, 34, 5, 2, 345]\n",
      "[1, 2, 3, 25, 6, 1, 6, 2, 7, 2, 8, 34, 5, 2, 345]\n",
      "[1, 2, 3, 6, 25, 1, 6, 2, 7, 2, 8, 34, 5, 2, 345]\n",
      "[1, 2, 3, 6, 1, 25, 6, 2, 7, 2, 8, 34, 5, 2, 345]\n",
      "[1, 2, 3, 6, 1, 6, 25, 2, 7, 2, 8, 34, 5, 2, 345]\n",
      "[1, 2, 3, 6, 1, 6, 2, 25, 7, 2, 8, 34, 5, 2, 345]\n",
      "[1, 2, 3, 6, 1, 6, 2, 7, 25, 2, 8, 34, 5, 2, 345]\n",
      "[1, 2, 3, 6, 1, 6, 2, 7, 2, 25, 8, 34, 5, 2, 345]\n",
      "[1, 2, 3, 6, 1, 6, 2, 7, 2, 8, 25, 34, 5, 2, 345]\n",
      "[1, 2, 3, 6, 1, 6, 2, 7, 2, 8, 25, 34, 5, 2, 345]\n",
      "[1, 2, 3, 6, 1, 6, 2, 7, 2, 8, 25, 5, 34, 2, 345]\n",
      "[1, 2, 3, 6, 1, 6, 2, 7, 2, 8, 25, 5, 2, 34, 345]\n",
      "pass: 3\n",
      "[1, 2, 3, 6, 1, 6, 2, 7, 2, 8, 25, 5, 2, 34, 345]\n",
      "[1, 2, 3, 6, 1, 6, 2, 7, 2, 8, 25, 5, 2, 34, 345]\n",
      "[1, 2, 3, 6, 1, 6, 2, 7, 2, 8, 25, 5, 2, 34, 345]\n",
      "[1, 2, 3, 6, 1, 6, 2, 7, 2, 8, 25, 5, 2, 34, 345]\n",
      "[1, 2, 3, 1, 6, 6, 2, 7, 2, 8, 25, 5, 2, 34, 345]\n",
      "[1, 2, 3, 1, 6, 6, 2, 7, 2, 8, 25, 5, 2, 34, 345]\n",
      "[1, 2, 3, 1, 6, 2, 6, 7, 2, 8, 25, 5, 2, 34, 345]\n",
      "[1, 2, 3, 1, 6, 2, 6, 7, 2, 8, 25, 5, 2, 34, 345]\n",
      "[1, 2, 3, 1, 6, 2, 6, 2, 7, 8, 25, 5, 2, 34, 345]\n",
      "[1, 2, 3, 1, 6, 2, 6, 2, 7, 8, 25, 5, 2, 34, 345]\n",
      "[1, 2, 3, 1, 6, 2, 6, 2, 7, 8, 25, 5, 2, 34, 345]\n",
      "[1, 2, 3, 1, 6, 2, 6, 2, 7, 8, 5, 25, 2, 34, 345]\n",
      "[1, 2, 3, 1, 6, 2, 6, 2, 7, 8, 5, 2, 25, 34, 345]\n",
      "[1, 2, 3, 1, 6, 2, 6, 2, 7, 8, 5, 2, 25, 34, 345]\n",
      "pass: 4\n",
      "[1, 2, 3, 1, 6, 2, 6, 2, 7, 8, 5, 2, 25, 34, 345]\n",
      "[1, 2, 3, 1, 6, 2, 6, 2, 7, 8, 5, 2, 25, 34, 345]\n",
      "[1, 2, 3, 1, 6, 2, 6, 2, 7, 8, 5, 2, 25, 34, 345]\n",
      "[1, 2, 1, 3, 6, 2, 6, 2, 7, 8, 5, 2, 25, 34, 345]\n",
      "[1, 2, 1, 3, 6, 2, 6, 2, 7, 8, 5, 2, 25, 34, 345]\n",
      "[1, 2, 1, 3, 2, 6, 6, 2, 7, 8, 5, 2, 25, 34, 345]\n",
      "[1, 2, 1, 3, 2, 6, 6, 2, 7, 8, 5, 2, 25, 34, 345]\n",
      "[1, 2, 1, 3, 2, 6, 2, 6, 7, 8, 5, 2, 25, 34, 345]\n",
      "[1, 2, 1, 3, 2, 6, 2, 6, 7, 8, 5, 2, 25, 34, 345]\n",
      "[1, 2, 1, 3, 2, 6, 2, 6, 7, 8, 5, 2, 25, 34, 345]\n",
      "[1, 2, 1, 3, 2, 6, 2, 6, 7, 5, 8, 2, 25, 34, 345]\n",
      "[1, 2, 1, 3, 2, 6, 2, 6, 7, 5, 2, 8, 25, 34, 345]\n",
      "[1, 2, 1, 3, 2, 6, 2, 6, 7, 5, 2, 8, 25, 34, 345]\n",
      "[1, 2, 1, 3, 2, 6, 2, 6, 7, 5, 2, 8, 25, 34, 345]\n",
      "pass: 5\n",
      "[1, 2, 1, 3, 2, 6, 2, 6, 7, 5, 2, 8, 25, 34, 345]\n",
      "[1, 2, 1, 3, 2, 6, 2, 6, 7, 5, 2, 8, 25, 34, 345]\n",
      "[1, 1, 2, 3, 2, 6, 2, 6, 7, 5, 2, 8, 25, 34, 345]\n",
      "[1, 1, 2, 3, 2, 6, 2, 6, 7, 5, 2, 8, 25, 34, 345]\n",
      "[1, 1, 2, 2, 3, 6, 2, 6, 7, 5, 2, 8, 25, 34, 345]\n",
      "[1, 1, 2, 2, 3, 6, 2, 6, 7, 5, 2, 8, 25, 34, 345]\n",
      "[1, 1, 2, 2, 3, 2, 6, 6, 7, 5, 2, 8, 25, 34, 345]\n",
      "[1, 1, 2, 2, 3, 2, 6, 6, 7, 5, 2, 8, 25, 34, 345]\n",
      "[1, 1, 2, 2, 3, 2, 6, 6, 7, 5, 2, 8, 25, 34, 345]\n",
      "[1, 1, 2, 2, 3, 2, 6, 6, 5, 7, 2, 8, 25, 34, 345]\n",
      "[1, 1, 2, 2, 3, 2, 6, 6, 5, 2, 7, 8, 25, 34, 345]\n",
      "[1, 1, 2, 2, 3, 2, 6, 6, 5, 2, 7, 8, 25, 34, 345]\n",
      "[1, 1, 2, 2, 3, 2, 6, 6, 5, 2, 7, 8, 25, 34, 345]\n",
      "[1, 1, 2, 2, 3, 2, 6, 6, 5, 2, 7, 8, 25, 34, 345]\n",
      "pass: 6\n",
      "[1, 1, 2, 2, 3, 2, 6, 6, 5, 2, 7, 8, 25, 34, 345]\n",
      "[1, 1, 2, 2, 3, 2, 6, 6, 5, 2, 7, 8, 25, 34, 345]\n",
      "[1, 1, 2, 2, 3, 2, 6, 6, 5, 2, 7, 8, 25, 34, 345]\n",
      "[1, 1, 2, 2, 3, 2, 6, 6, 5, 2, 7, 8, 25, 34, 345]\n",
      "[1, 1, 2, 2, 3, 2, 6, 6, 5, 2, 7, 8, 25, 34, 345]\n",
      "[1, 1, 2, 2, 2, 3, 6, 6, 5, 2, 7, 8, 25, 34, 345]\n",
      "[1, 1, 2, 2, 2, 3, 6, 6, 5, 2, 7, 8, 25, 34, 345]\n",
      "[1, 1, 2, 2, 2, 3, 6, 6, 5, 2, 7, 8, 25, 34, 345]\n",
      "[1, 1, 2, 2, 2, 3, 6, 5, 6, 2, 7, 8, 25, 34, 345]\n",
      "[1, 1, 2, 2, 2, 3, 6, 5, 2, 6, 7, 8, 25, 34, 345]\n",
      "[1, 1, 2, 2, 2, 3, 6, 5, 2, 6, 7, 8, 25, 34, 345]\n",
      "[1, 1, 2, 2, 2, 3, 6, 5, 2, 6, 7, 8, 25, 34, 345]\n",
      "[1, 1, 2, 2, 2, 3, 6, 5, 2, 6, 7, 8, 25, 34, 345]\n",
      "[1, 1, 2, 2, 2, 3, 6, 5, 2, 6, 7, 8, 25, 34, 345]\n",
      "pass: 7\n",
      "[1, 1, 2, 2, 2, 3, 6, 5, 2, 6, 7, 8, 25, 34, 345]\n",
      "[1, 1, 2, 2, 2, 3, 6, 5, 2, 6, 7, 8, 25, 34, 345]\n",
      "[1, 1, 2, 2, 2, 3, 6, 5, 2, 6, 7, 8, 25, 34, 345]\n",
      "[1, 1, 2, 2, 2, 3, 6, 5, 2, 6, 7, 8, 25, 34, 345]\n",
      "[1, 1, 2, 2, 2, 3, 6, 5, 2, 6, 7, 8, 25, 34, 345]\n",
      "[1, 1, 2, 2, 2, 3, 6, 5, 2, 6, 7, 8, 25, 34, 345]\n",
      "[1, 1, 2, 2, 2, 3, 6, 5, 2, 6, 7, 8, 25, 34, 345]\n",
      "[1, 1, 2, 2, 2, 3, 5, 6, 2, 6, 7, 8, 25, 34, 345]\n",
      "[1, 1, 2, 2, 2, 3, 5, 2, 6, 6, 7, 8, 25, 34, 345]\n",
      "[1, 1, 2, 2, 2, 3, 5, 2, 6, 6, 7, 8, 25, 34, 345]\n",
      "[1, 1, 2, 2, 2, 3, 5, 2, 6, 6, 7, 8, 25, 34, 345]\n",
      "[1, 1, 2, 2, 2, 3, 5, 2, 6, 6, 7, 8, 25, 34, 345]\n",
      "[1, 1, 2, 2, 2, 3, 5, 2, 6, 6, 7, 8, 25, 34, 345]\n",
      "[1, 1, 2, 2, 2, 3, 5, 2, 6, 6, 7, 8, 25, 34, 345]\n",
      "pass: 8\n",
      "[1, 1, 2, 2, 2, 3, 5, 2, 6, 6, 7, 8, 25, 34, 345]\n",
      "[1, 1, 2, 2, 2, 3, 5, 2, 6, 6, 7, 8, 25, 34, 345]\n",
      "[1, 1, 2, 2, 2, 3, 5, 2, 6, 6, 7, 8, 25, 34, 345]\n",
      "[1, 1, 2, 2, 2, 3, 5, 2, 6, 6, 7, 8, 25, 34, 345]\n",
      "[1, 1, 2, 2, 2, 3, 5, 2, 6, 6, 7, 8, 25, 34, 345]\n",
      "[1, 1, 2, 2, 2, 3, 5, 2, 6, 6, 7, 8, 25, 34, 345]\n",
      "[1, 1, 2, 2, 2, 3, 5, 2, 6, 6, 7, 8, 25, 34, 345]\n",
      "[1, 1, 2, 2, 2, 3, 2, 5, 6, 6, 7, 8, 25, 34, 345]\n",
      "[1, 1, 2, 2, 2, 3, 2, 5, 6, 6, 7, 8, 25, 34, 345]\n",
      "[1, 1, 2, 2, 2, 3, 2, 5, 6, 6, 7, 8, 25, 34, 345]\n",
      "[1, 1, 2, 2, 2, 3, 2, 5, 6, 6, 7, 8, 25, 34, 345]\n",
      "[1, 1, 2, 2, 2, 3, 2, 5, 6, 6, 7, 8, 25, 34, 345]\n",
      "[1, 1, 2, 2, 2, 3, 2, 5, 6, 6, 7, 8, 25, 34, 345]\n",
      "[1, 1, 2, 2, 2, 3, 2, 5, 6, 6, 7, 8, 25, 34, 345]\n",
      "pass: 9\n",
      "[1, 1, 2, 2, 2, 3, 2, 5, 6, 6, 7, 8, 25, 34, 345]\n",
      "[1, 1, 2, 2, 2, 3, 2, 5, 6, 6, 7, 8, 25, 34, 345]\n",
      "[1, 1, 2, 2, 2, 3, 2, 5, 6, 6, 7, 8, 25, 34, 345]\n",
      "[1, 1, 2, 2, 2, 3, 2, 5, 6, 6, 7, 8, 25, 34, 345]\n",
      "[1, 1, 2, 2, 2, 3, 2, 5, 6, 6, 7, 8, 25, 34, 345]\n",
      "[1, 1, 2, 2, 2, 3, 2, 5, 6, 6, 7, 8, 25, 34, 345]\n",
      "[1, 1, 2, 2, 2, 2, 3, 5, 6, 6, 7, 8, 25, 34, 345]\n",
      "[1, 1, 2, 2, 2, 2, 3, 5, 6, 6, 7, 8, 25, 34, 345]\n",
      "[1, 1, 2, 2, 2, 2, 3, 5, 6, 6, 7, 8, 25, 34, 345]\n",
      "[1, 1, 2, 2, 2, 2, 3, 5, 6, 6, 7, 8, 25, 34, 345]\n",
      "[1, 1, 2, 2, 2, 2, 3, 5, 6, 6, 7, 8, 25, 34, 345]\n",
      "[1, 1, 2, 2, 2, 2, 3, 5, 6, 6, 7, 8, 25, 34, 345]\n",
      "[1, 1, 2, 2, 2, 2, 3, 5, 6, 6, 7, 8, 25, 34, 345]\n",
      "[1, 1, 2, 2, 2, 2, 3, 5, 6, 6, 7, 8, 25, 34, 345]\n",
      "pass: 10\n",
      "[1, 1, 2, 2, 2, 2, 3, 5, 6, 6, 7, 8, 25, 34, 345]\n",
      "[1, 1, 2, 2, 2, 2, 3, 5, 6, 6, 7, 8, 25, 34, 345]\n",
      "[1, 1, 2, 2, 2, 2, 3, 5, 6, 6, 7, 8, 25, 34, 345]\n",
      "[1, 1, 2, 2, 2, 2, 3, 5, 6, 6, 7, 8, 25, 34, 345]\n",
      "[1, 1, 2, 2, 2, 2, 3, 5, 6, 6, 7, 8, 25, 34, 345]\n",
      "[1, 1, 2, 2, 2, 2, 3, 5, 6, 6, 7, 8, 25, 34, 345]\n",
      "[1, 1, 2, 2, 2, 2, 3, 5, 6, 6, 7, 8, 25, 34, 345]\n",
      "[1, 1, 2, 2, 2, 2, 3, 5, 6, 6, 7, 8, 25, 34, 345]\n",
      "[1, 1, 2, 2, 2, 2, 3, 5, 6, 6, 7, 8, 25, 34, 345]\n",
      "[1, 1, 2, 2, 2, 2, 3, 5, 6, 6, 7, 8, 25, 34, 345]\n",
      "[1, 1, 2, 2, 2, 2, 3, 5, 6, 6, 7, 8, 25, 34, 345]\n",
      "[1, 1, 2, 2, 2, 2, 3, 5, 6, 6, 7, 8, 25, 34, 345]\n",
      "[1, 1, 2, 2, 2, 2, 3, 5, 6, 6, 7, 8, 25, 34, 345]\n",
      "[1, 1, 2, 2, 2, 2, 3, 5, 6, 6, 7, 8, 25, 34, 345]\n",
      "[1, 1, 2, 2, 2, 2, 3, 5, 6, 6, 7, 8, 25, 34, 345]\n"
     ]
    }
   ],
   "source": [
    "l = [345, 25, 1, 2, 3, 6, 1, 6, 2, 7, 2, 8, 34, 5, 2]\n",
    "\n",
    "def swap(alist, x, y):\n",
    "    alist[x], alist[y] = alist[y], alist[x]\n",
    "\n",
    "def bubble(alist):\n",
    "    isSorted =  False\n",
    "    \n",
    "    p = 0\n",
    "    while not isSorted:\n",
    "        p += 1\n",
    "        print(f'pass: {p}')\n",
    "        isSorted = True\n",
    "        \n",
    "        for i in range(len(alist) - 1):\n",
    "            print(alist)\n",
    "            if alist[i] > alist[i + 1]:\n",
    "                swap(alist, i, i+1)\n",
    "                isSorted = False\n",
    "         \n",
    "bubble(l)\n",
    "print(l)"
   ]
  },
  {
   "cell_type": "code",
   "execution_count": 24,
   "metadata": {},
   "outputs": [
    {
     "name": "stdout",
     "output_type": "stream",
     "text": [
      "[1, 1, 2, 4, 4, 7, 8]\n"
     ]
    }
   ],
   "source": [
    "myList = [8, 2, 4, 1, 7, 1, 4]\n",
    "\n",
    "def swap(alist, x, y):\n",
    "    alist[x], alist[y] = alist[y], alist[x]\n",
    "\n",
    "def insertion(alist):\n",
    "\n",
    "    for i in range(1, len(alist)):\n",
    "        while i > 0 and alist[i] < alist[i-1]:\n",
    "            swap(alist, i, i-1)\n",
    "            i -= 1\n",
    "\n",
    "insertion(myList)\n",
    "print(myList)"
   ]
  },
  {
   "cell_type": "code",
   "execution_count": 29,
   "metadata": {},
   "outputs": [
    {
     "name": "stdout",
     "output_type": "stream",
     "text": [
      "[1, 1, 2, 4, 4, 7, 8]\n"
     ]
    }
   ],
   "source": [
    "mylist = [3,44,6,26,26,46,23456,234,5,25,2,2,4,6,26]\n",
    "\n",
    "def mergeSort(alist):\n",
    "    \n",
    "    if len(alist) > 1:\n",
    "        middle = len(alist)//2\n",
    "        left = alist[:middle]\n",
    "        right = alist[middle:]\n",
    "        mergeSort(left)\n",
    "        mergeSort(right)\n",
    "        \n",
    "        i = 0 #track left\n",
    "        j = 0 #track right\n",
    "        k = 0 #track head list pointer\n",
    "        \n",
    "        while i < len(left) and j < len(right):\n",
    "            if left[i] < right[j]:\n",
    "                alist[k] = left[i]\n",
    "                i += 1\n",
    "            else:\n",
    "                alist[k] = right[j]\n",
    "                j += 1\n",
    "            k += 1\n",
    "            \n",
    "        \n",
    "        while i < len(left):\n",
    "            alist[k] = left[i]\n",
    "            i+= 1\n",
    "            k+= 1\n",
    "            \n",
    "        while j < len(right):\n",
    "            alist[k] = right[j]\n",
    "            j+=1\n",
    "            k+=1\n",
    "            \n",
    "\n",
    "mergeSort(mylist)\n",
    "print(myList)"
   ]
  },
  {
   "cell_type": "markdown",
   "metadata": {},
   "source": [
    "##### Insertion Sort\n",
    "\n",
    "Worst Case: O(n^2) time - O(1)space"
   ]
  },
  {
   "cell_type": "code",
   "execution_count": null,
   "metadata": {},
   "outputs": [],
   "source": []
  },
  {
   "cell_type": "markdown",
   "metadata": {},
   "source": [
    "## Merge Sort"
   ]
  },
  {
   "cell_type": "markdown",
   "metadata": {},
   "source": [
    "#### How it Works"
   ]
  },
  {
   "cell_type": "code",
   "execution_count": null,
   "metadata": {},
   "outputs": [],
   "source": []
  },
  {
   "cell_type": "markdown",
   "metadata": {},
   "source": [
    "# Binary Search\n",
    "\n",
    "The Binary Search algorithm works by finding the number in the middle of a given array and comparing it to the target. Given that the array is sorted\n",
    "\n",
    "* The worst case run time for this algorithm is `O(log(n))`"
   ]
  },
  {
   "cell_type": "code",
   "execution_count": 33,
   "metadata": {},
   "outputs": [
    {
     "data": {
      "text/plain": [
       "'WINNER WINNER CHX DINNER found 13 at index 11'"
      ]
     },
     "execution_count": 33,
     "metadata": {},
     "output_type": "execute_result"
    }
   ],
   "source": [
    "def binSearch(alist, target):\n",
    "    left = 0\n",
    "    right = (len(alist) -1)\n",
    "    while left <= right:\n",
    "        middle = (left + right) // 2\n",
    "        potential = alist[middle]\n",
    "        if target == potential:\n",
    "            return (f'WINNER WINNER CHX DINNER found {target} at index {middle}')\n",
    "        if target > potential:\n",
    "            left = middle + 1\n",
    "        elif target < potential:\n",
    "            right = middle -1\n",
    "    return \"target not found\"\n",
    "\n",
    "binSearch([1, 2, 3, 4, 5, 6, 7, 8, 9, 11, 12, 13, 14, 15, 165,1616], 13)\n",
    "\n"
   ]
  },
  {
   "cell_type": "markdown",
   "metadata": {},
   "source": [
    "# Exercises"
   ]
  },
  {
   "cell_type": "markdown",
   "metadata": {},
   "source": [
    "### Exercise #1 <br>\n",
    "<p>Reverse the list below in-place using an in-place algorithm.<br>For extra credit: Reverse the strings at the same time.</p>"
   ]
  },
  {
   "cell_type": "code",
   "execution_count": 40,
   "metadata": {},
   "outputs": [
    {
     "name": "stdout",
     "output_type": "stream",
     "text": [
      "['!', 'ecnetnes', 'tset', 'regnol', 'hcum', 'dna', 'detide', 'ym', 'si', 'siht']\n"
     ]
    }
   ],
   "source": [
    "words = ['this' , 'is', 'my', 'edited', 'and', 'much', 'longer', 'test', 'sentence', '!']\n",
    "\n",
    "def reverseString(list):\n",
    "    left = 0\n",
    "    right = len(list) -1\n",
    "    while left <= right:\n",
    "        list[left], list[right] = list[right][::-1], list[left][::-1]\n",
    "        left+= 1\n",
    "        right-= 1\n",
    "\n",
    "reverseString(words)\n",
    "print(words)"
   ]
  },
  {
   "cell_type": "markdown",
   "metadata": {},
   "source": [
    "### Exercise #2 <br>\n",
    "<p>Create a function that counts how many distinct words are in the string below, then outputs a dictionary with the words as the key and the value as the amount of times that word appears in the string.<br>Should output:<br>{'a': 5,<br>\n",
    " 'abstract': 1,<br>\n",
    " 'an': 3,<br>\n",
    " 'array': 2, ... etc...</p>"
   ]
  },
  {
   "cell_type": "code",
   "execution_count": 51,
   "metadata": {},
   "outputs": [
    {
     "name": "stdout",
     "output_type": "stream",
     "text": [
      "There are 37 distinct words in your message!\n"
     ]
    },
    {
     "data": {
      "text/plain": [
       "[('a', 5),\n",
       " ('abstract', 1),\n",
       " ('an', 3),\n",
       " ('array', 2),\n",
       " ('associative', 1),\n",
       " ('be', 1),\n",
       " ('buckets', 1),\n",
       " ('can', 2),\n",
       " ('compute', 1),\n",
       " ('computing', 1),\n",
       " ('data', 2),\n",
       " ('desired', 1),\n",
       " ('found', 1),\n",
       " ('from', 1),\n",
       " ('function', 1),\n",
       " ('hash', 4),\n",
       " ('implements', 1),\n",
       " ('in', 1),\n",
       " ('index', 1),\n",
       " ('into', 1),\n",
       " ('is', 1),\n",
       " ('keys', 1),\n",
       " ('map', 2),\n",
       " ('of', 1),\n",
       " ('or', 1),\n",
       " ('slots', 1),\n",
       " ('structure', 2),\n",
       " ('table', 2),\n",
       " ('that', 1),\n",
       " ('the', 1),\n",
       " ('to', 2),\n",
       " ('type', 1),\n",
       " ('uses', 1),\n",
       " ('value', 1),\n",
       " ('values', 1),\n",
       " ('which', 2)]"
      ]
     },
     "execution_count": 51,
     "metadata": {},
     "output_type": "execute_result"
    }
   ],
   "source": [
    "import re\n",
    "myReg = re.compile(r'[a-zA-Z]+')\n",
    "a_text = 'In computing, a hash table hash map is a data structure which implements an associative array abstract data type, a structure that can map keys to values. A hash table uses a hash function to compute an index into an array of buckets or slots from which the desired value can be found'\n",
    "#xtra credit: ignore punctuation hint: .strip()(?)\n",
    "\n",
    "def distinctWords(text):\n",
    "    ans = {}\n",
    "    myList = myReg.findall(a_text)\n",
    "    count = len(set(myList))\n",
    "    print(f'There are {count} distinct words in your message!')\n",
    "    for word in myList:\n",
    "        if word.lower() not in ans:\n",
    "            ans[word.lower()] = 1\n",
    "        else:\n",
    "            ans[word.lower()] += 1\n",
    "    return sorted(ans.items())\n",
    "\n",
    "distinctWords(a_text) \n"
   ]
  },
  {
   "cell_type": "markdown",
   "metadata": {},
   "source": [
    "## Exercise #3\n",
    "\n",
    "Write a program to implement a Linear Search Algorithm. Also in a comment, write the Time Complexity of the following algorithm.\n",
    "\n",
    "#### Hint: Linear Searching will require searching a list for a given number. "
   ]
  },
  {
   "cell_type": "code",
   "execution_count": 61,
   "metadata": {},
   "outputs": [
    {
     "name": "stdout",
     "output_type": "stream",
     "text": [
      "is 1 your number?... \n",
      " No? ummmm\n",
      "is 2 your number?... \n",
      " No? ummmm\n",
      "is 3 your number?... \n",
      " No? ummmm\n",
      "is 4 your number?... \n",
      " No? ummmm\n",
      "is 5 your number?... \n",
      " No? ummmm\n",
      "is 6 your number?... \n",
      " No? ummmm\n",
      "is 7 your number?... \n",
      " No? ummmm\n",
      "is 8 your number?... \n",
      " No? ummmm\n",
      "is 9 your number?... \n",
      " No? ummmm\n"
     ]
    },
    {
     "data": {
      "text/plain": [
       "'FOUND IT, Target number 10 at index 9'"
      ]
     },
     "execution_count": 61,
     "metadata": {},
     "output_type": "execute_result"
    }
   ],
   "source": [
    "def linearList(list, target):\n",
    "    for i in range(len(list)):\n",
    "        if list[i] == target:\n",
    "            return f'FOUND IT, Target number {target} at index {i}'\n",
    "        print(f'is {i+1} your number?... \\n No? ummmm')\n",
    "    else:\n",
    "        return 'Target not in list'\n",
    "    \n",
    "linearList([1, 2, 3, 4, 5, 6, 6, 7, 8, 10], 10)"
   ]
  }
 ],
 "metadata": {
  "kernelspec": {
   "display_name": "Python 3",
   "language": "python",
   "name": "python3"
  },
  "language_info": {
   "codemirror_mode": {
    "name": "ipython",
    "version": 3
   },
   "file_extension": ".py",
   "mimetype": "text/x-python",
   "name": "python",
   "nbconvert_exporter": "python",
   "pygments_lexer": "ipython3",
   "version": "3.11.3"
  }
 },
 "nbformat": 4,
 "nbformat_minor": 2
}
